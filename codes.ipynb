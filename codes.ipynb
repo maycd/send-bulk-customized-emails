{
 "cells": [
  {
   "cell_type": "markdown",
   "id": "42f5c590",
   "metadata": {},
   "source": [
    "# Sending mass customized emails with pictures from Google gmail with SMTP in Python"
   ]
  },
  {
   "cell_type": "markdown",
   "id": "6aeb19f1",
   "metadata": {},
   "source": [
    "### Preparation"
   ]
  },
  {
   "cell_type": "markdown",
   "id": "757f7eec",
   "metadata": {},
   "source": [
    "Go to \"Manage your Google Account\", Search for \"Less secure app access\", Turn on \"Allow less secure apps: ON\" to allow Python to access gmail"
   ]
  },
  {
   "cell_type": "markdown",
   "id": "c3cddeb9",
   "metadata": {},
   "source": [
    "In Google Contacts, export contacts as Google CSV by default named \"contacts.csv\""
   ]
  },
  {
   "cell_type": "markdown",
   "id": "dc3975b5",
   "metadata": {},
   "source": [
    "### In plain plain text, with picture attached"
   ]
  },
  {
   "cell_type": "code",
   "execution_count": null,
   "id": "34d181bb",
   "metadata": {},
   "outputs": [],
   "source": [
    "import pandas as pd\n",
    "from email.mime.image import MIMEImage\n",
    "from pathlib import Path\n",
    "import smtplib, ssl\n",
    "from string import Template"
   ]
  },
  {
   "cell_type": "code",
   "execution_count": null,
   "id": "31b855cc",
   "metadata": {
    "scrolled": true
   },
   "outputs": [],
   "source": [
    "# extract family name, email address, title\n",
    "contacts = pd.read_csv(\"contacts.csv\")[[\n",
    "    'Family Name', \n",
    "    'E-mail 1 - Value', \n",
    "    'Organization 1 - Title']]\n",
    "print('No. of contacts:', len(contacts))\n",
    "contacts.head()"
   ]
  },
  {
   "cell_type": "code",
   "execution_count": null,
   "id": "520d6d5e",
   "metadata": {},
   "outputs": [],
   "source": [
    "# email content\n",
    "message = \"\"\"\n",
    "Dear {title} {family_name}, \n",
    "\n",
    "Attached is the picture.\n",
    "\n",
    "\n",
    "Regards,\n",
    "\n",
    "maycd\n",
    "\"\"\""
   ]
  },
  {
   "cell_type": "code",
   "execution_count": null,
   "id": "3f240a51",
   "metadata": {},
   "outputs": [],
   "source": [
    "%%time\n",
    "# sender's email address\n",
    "from_address = \"sender@email.com\"\n",
    "password = input(\"Input password: \")\n",
    "\n",
    "# connect to smtp\n",
    "context = ssl.create_default_context()\n",
    "with smtplib.SMTP_SSL(\"smtp.gmail.com\", 465, context=context) as server:\n",
    "    # login\n",
    "    server.login(from_address, password)\n",
    "    \n",
    "    # loop to ensure the recipient not see other recipients in the address line\n",
    "    for i in range(len(contacts)):\n",
    "        # initiate a mime object\n",
    "        content = MIMEMultipart()\n",
    "        \n",
    "        # subject line, sender, recipient address of an email\n",
    "        content[\"subject\"] = \"Email from maycd\"\n",
    "        content[\"from\"] = from_address\n",
    "        content[\"to\"] = contacts.iloc[i, 1]\n",
    "        \n",
    "        # content customized with information in contacts\n",
    "        message1 = message.format(\n",
    "            title=contacts.iloc[i, 2], \n",
    "            family_name=contacts.iloc[i, 0])\n",
    "        content.attach(MIMEText(message1))\n",
    "        \n",
    "        # image as an attachment\n",
    "        content.attach(MIMEImage(Path(\"picture.jpg\").read_bytes(),\n",
    "                                name=\"picture.jpg\"))\n",
    "        \n",
    "        # send the email\n",
    "        server.send_message(content)\n",
    "        \n",
    "        # print current process of completion\n",
    "        print(i, contacts.iloc[i, 2], contacts.iloc[i, 0], contacts.iloc[i, 1])"
   ]
  },
  {
   "cell_type": "markdown",
   "id": "18b4a9f8",
   "metadata": {},
   "source": [
    "### In html string, with picture in message body"
   ]
  },
  {
   "cell_type": "markdown",
   "id": "e477aaf3",
   "metadata": {},
   "source": [
    "Note: when recipient's email is Microsoft Outlook, the following method of placing picture in message body seems not applicable."
   ]
  },
  {
   "cell_type": "code",
   "execution_count": null,
   "id": "9baca174",
   "metadata": {},
   "outputs": [],
   "source": [
    "# email content\n",
    "htmlstr = \"\"\"\n",
    "Dear $title $family_name, \n",
    "<p></p>\n",
    "<p>Here is the picture.</p>\n",
    "<p></p>\n",
    "<p><img src=\"cid:image1\"></p>\n",
    "<p></p>\n",
    "<p>Regards,</p>\n",
    "<p></p>\n",
    "<p>maycd</p>\n",
    "\"\"\"\n",
    "# convert to template for substitution\n",
    "template = Template(htmlstr)"
   ]
  },
  {
   "cell_type": "code",
   "execution_count": null,
   "id": "919fb328",
   "metadata": {},
   "outputs": [],
   "source": [
    "%%time\n",
    "from_address = \"sender@email.com\"\n",
    "password = input(\"Input password: \")\n",
    "\n",
    "context = ssl.create_default_context()\n",
    "with smtplib.SMTP_SSL(\"smtp.gmail.com\", 465, context=context) as server:\n",
    "    server.login(from_address, password)\n",
    "    for i in range(len(contacts)):\n",
    "        content = MIMEMultipart('alternative')\n",
    "        content[\"subject\"] = \"Email from maycd\"\n",
    "        content[\"from\"] = from_address\n",
    "        content[\"to\"] = contacts.iloc[i, 1]\n",
    "        \n",
    "        # customize the content\n",
    "        body = template.substitute({ \"title\": contacts.iloc[i, 2], \n",
    "                                    \"family_name\": contacts.iloc[i, 0] })\n",
    "        content.attach(MIMEText(body, \"html\", \"utf-8\"))\n",
    "        \n",
    "        # image placed in text\n",
    "        fp = open('picture.jpg', 'rb')\n",
    "        msgImage = MIMEImage(fp.read())\n",
    "        fp.close()\n",
    "        msgImage.add_header('Content-ID', '<image1>')\n",
    "        content.attach(msgImage)\n",
    "        \n",
    "        server.send_message(content)\n",
    "        print(i, contacts.iloc[i, 2], contacts.iloc[i, 0], contacts.iloc[i, 1])"
   ]
  },
  {
   "cell_type": "code",
   "execution_count": null,
   "id": "7822d924",
   "metadata": {},
   "outputs": [],
   "source": []
  }
 ],
 "metadata": {
  "kernelspec": {
   "display_name": "Python 3",
   "language": "python",
   "name": "python3"
  },
  "language_info": {
   "codemirror_mode": {
    "name": "ipython",
    "version": 3
   },
   "file_extension": ".py",
   "mimetype": "text/x-python",
   "name": "python",
   "nbconvert_exporter": "python",
   "pygments_lexer": "ipython3",
   "version": "3.8.8"
  }
 },
 "nbformat": 4,
 "nbformat_minor": 5
}
